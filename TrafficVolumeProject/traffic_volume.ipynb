{
 "cells": [
  {
   "cell_type": "code",
   "execution_count": 9,
   "id": "6759ad0c",
   "metadata": {},
   "outputs": [
    {
     "name": "stdout",
     "output_type": "stream",
     "text": [
      "Index(['holiday', 'temp', 'rain', 'snow', 'weather', 'date', 'Time',\n",
      "       'traffic_volume'],\n",
      "      dtype='object')\n",
      "Model Accuracy: -43.42%\n"
     ]
    },
    {
     "data": {
      "text/plain": [
       "['Flask/encoder.pkl']"
      ]
     },
     "execution_count": 9,
     "metadata": {},
     "output_type": "execute_result"
    }
   ],
   "source": [
    "# Importing Libraries\n",
    "import pandas as pd\n",
    "import numpy as np\n",
    "import matplotlib.pyplot as plt\n",
    "import seaborn as sns\n",
    "\n",
    "# Load Dataset\n",
    "data = pd.read_csv('traffic_volume.csv')\n",
    "\n",
    "# Check columns (already confirmed)\n",
    "print(data.columns)\n",
    "\n",
    "# Drop rows with missing values\n",
    "data = data.dropna()\n",
    "\n",
    "# Categorical columns to encode\n",
    "categorical_cols = ['holiday', 'rain', 'snow', 'weather']\n",
    "\n",
    "# Apply Label Encoding (simpler for now)\n",
    "from sklearn.preprocessing import LabelEncoder\n",
    "\n",
    "le = LabelEncoder()\n",
    "for col in categorical_cols:\n",
    "    data[col] = le.fit_transform(data[col])\n",
    "\n",
    "# Prepare features and target\n",
    "X = data.drop(['traffic_volume', 'date', 'Time'], axis=1)\n",
    "y = data['traffic_volume']\n",
    "\n",
    "# Train-test split\n",
    "from sklearn.model_selection import train_test_split\n",
    "X_train, X_test, y_train, y_test = train_test_split(X, y, test_size=0.2, random_state=42)\n",
    "\n",
    "# Feature scaling\n",
    "from sklearn.preprocessing import StandardScaler\n",
    "scaler = StandardScaler()\n",
    "X_train_scaled = scaler.fit_transform(X_train)\n",
    "X_test_scaled = scaler.transform(X_test)\n",
    "\n",
    "# Model Building\n",
    "from sklearn.linear_model import LinearRegression\n",
    "model = LinearRegression()\n",
    "model.fit(X_train_scaled, y_train)\n",
    "\n",
    "# Evaluation\n",
    "score = model.score(X_test_scaled, y_test)\n",
    "print(f\"Model Accuracy: {score*100:.2f}%\")\n",
    "\n",
    "# Save model and scaler for Flask app\n",
    "import joblib\n",
    "joblib.dump(model, 'Flask/model.pkl')\n",
    "joblib.dump(scaler, 'Flask/encoder.pkl')\n"
   ]
  },
  {
   "cell_type": "code",
   "execution_count": 3,
   "id": "a60f974f",
   "metadata": {},
   "outputs": [
    {
     "name": "stdout",
     "output_type": "stream",
     "text": [
      "  holiday    temp  rain  snow weather        date      Time  traffic_volume\n",
      "0     NaN  288.28   0.0   0.0  Clouds  02-10-2012  09:00:00            5545\n",
      "1     NaN  289.36   0.0   0.0  Clouds  02-10-2012  10:00:00            4516\n",
      "2     NaN  289.58   0.0   0.0  Clouds  02-10-2012  11:00:00            4767\n",
      "3     NaN  290.13   0.0   0.0  Clouds  02-10-2012  12:00:00            5026\n",
      "4     NaN  291.14   0.0   0.0  Clouds  02-10-2012  13:00:00            4918\n",
      "<class 'pandas.core.frame.DataFrame'>\n",
      "RangeIndex: 48204 entries, 0 to 48203\n",
      "Data columns (total 8 columns):\n",
      " #   Column          Non-Null Count  Dtype  \n",
      "---  ------          --------------  -----  \n",
      " 0   holiday         61 non-null     object \n",
      " 1   temp            48151 non-null  float64\n",
      " 2   rain            48202 non-null  float64\n",
      " 3   snow            48192 non-null  float64\n",
      " 4   weather         48155 non-null  object \n",
      " 5   date            48204 non-null  object \n",
      " 6   Time            48204 non-null  object \n",
      " 7   traffic_volume  48204 non-null  int64  \n",
      "dtypes: float64(3), int64(1), object(4)\n",
      "memory usage: 2.9+ MB\n",
      "None\n",
      "Model Accuracy: 15.72%\n"
     ]
    },
    {
     "data": {
      "text/plain": [
       "['Flask/encoder.pkl']"
      ]
     },
     "execution_count": 3,
     "metadata": {},
     "output_type": "execute_result"
    }
   ],
   "source": [
    "# Import Libraries\n",
    "import pandas as pd\n",
    "import numpy as np\n",
    "import matplotlib.pyplot as plt\n",
    "import seaborn as sns\n",
    "\n",
    "# Load Data\n",
    "data = pd.read_csv('traffic_volume.csv')\n",
    "print(data.head())\n",
    "print(data.info())\n",
    "\n",
    "# Drop missing values\n",
    "data = data.dropna()\n",
    "\n",
    "# Encode categorical columns\n",
    "from sklearn.preprocessing import LabelEncoder\n",
    "\n",
    "categorical_cols = ['holiday', 'rain', 'snow', 'weather']\n",
    "le = LabelEncoder()\n",
    "\n",
    "for col in categorical_cols:\n",
    "    data[col] = le.fit_transform(data[col])\n",
    "\n",
    "# Optional: create hour and weekday from time/date\n",
    "data['hour'] = pd.to_datetime(data['Time'], format='%H:%M:%S').dt.hour\n",
    "data['weekday'] = pd.to_datetime(data['date'], format='%d-%m-%Y').dt.weekday\n",
    "\n",
    "# Drop date/time after feature extraction\n",
    "data = data.drop(['date', 'Time'], axis=1)\n",
    "\n",
    "# Features and target\n",
    "X = data.drop(['traffic_volume'], axis=1)\n",
    "y = data['traffic_volume']\n",
    "\n",
    "# Train-test split\n",
    "from sklearn.model_selection import train_test_split\n",
    "X_train, X_test, y_train, y_test = train_test_split(X, y, test_size=0.2, random_state=42)\n",
    "\n",
    "# Feature scaling\n",
    "from sklearn.preprocessing import StandardScaler\n",
    "scaler = StandardScaler()\n",
    "X_train_scaled = scaler.fit_transform(X_train)\n",
    "X_test_scaled = scaler.transform(X_test)\n",
    "\n",
    "# Model training\n",
    "from sklearn.ensemble import RandomForestRegressor\n",
    "model = RandomForestRegressor(n_estimators=100, random_state=42)\n",
    "model.fit(X_train_scaled, y_train)\n",
    "\n",
    "# Evaluation\n",
    "score = model.score(X_test_scaled, y_test)\n",
    "print(f\"Model Accuracy: {score*100:.2f}%\")\n",
    "\n",
    "# Save model & scaler\n",
    "import joblib\n",
    "joblib.dump(model, 'Flask/model.pkl')\n",
    "joblib.dump(scaler, 'Flask/encoder.pkl')\n"
   ]
  }
 ],
 "metadata": {
  "kernelspec": {
   "display_name": ".venv",
   "language": "python",
   "name": "python3"
  },
  "language_info": {
   "codemirror_mode": {
    "name": "ipython",
    "version": 3
   },
   "file_extension": ".py",
   "mimetype": "text/x-python",
   "name": "python",
   "nbconvert_exporter": "python",
   "pygments_lexer": "ipython3",
   "version": "3.12.4"
  }
 },
 "nbformat": 4,
 "nbformat_minor": 5
}
